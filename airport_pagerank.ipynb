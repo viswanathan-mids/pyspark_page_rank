{
  "cells": [
    {
      "cell_type": "markdown",
      "source": [
        "## Airport Pagerank"
      ],
      "metadata": {
        "application/vnd.databricks.v1+cell": {
          "title": "",
          "showTitle": false,
          "inputWidgets": {},
          "nuid": "00e15992-7bae-4018-bb5d-c42bf281e0fa"
        },
        "id": "_mPzRXJjp5J5"
      }
    },
    {
      "cell_type": "code",
      "source": [
        "# Load Libraries\n",
        "from pyspark.sql.functions import col\n",
        "from pyspark.sql import types as T\n",
        "from pyspark.sql import functions as F\n",
        "from pyspark.sql.types import LongType\n",
        "from pyspark.sql.functions import udf\n",
        "import graphframes as GF\n",
        "from pyspark.sql.functions import lit\n",
        "from pyspark.sql.functions import to_timestamp\n",
        "\n",
        "from timezonefinder import TimezoneFinder\n",
        "import re\n",
        "import os\n",
        "import numpy as np\n",
        "import pandas as pd\n",
        "import math"
      ],
      "metadata": {
        "application/vnd.databricks.v1+cell": {
          "title": "",
          "showTitle": false,
          "inputWidgets": {},
          "nuid": "640c3ff5-1935-45c0-a90f-346d24a347e0"
        },
        "id": "tmgcu8Ozp5KN",
        "outputId": "53c626fd-d962-4b3f-a8f0-1913a00ca22d"
      },
      "outputs": [
        {
          "output_type": "display_data",
          "metadata": {
            "application/vnd.databricks.v1+output": {
              "datasetInfos": [],
              "data": "<div class=\"ansiout\"></div>",
              "removedWidgets": [],
              "addedWidgets": {},
              "metadata": {},
              "type": "html",
              "arguments": {}
            }
          },
          "data": {
            "text/html": [
              "<style scoped>\n  .ansiout {\n    display: block;\n    unicode-bidi: embed;\n    white-space: pre-wrap;\n    word-wrap: break-word;\n    word-break: break-all;\n    font-family: \"Source Code Pro\", \"Menlo\", monospace;;\n    font-size: 13px;\n    color: #555;\n    margin-left: 4px;\n    line-height: 19px;\n  }\n</style>\n<div class=\"ansiout\"></div>"
            ]
          }
        }
      ],
      "execution_count": null
    },
    {
      "cell_type": "code",
      "source": [
        "# Parameters for SAS Token. Required for establishing connection to blob storage.\n",
        "\n",
        "blob_container = \"cont\" # The name of your container created in https://portal.azure.com\n",
        "storage_account = \"acc\" # The name of your Storage account created in https://portal.azure.com\n",
        "secret_scope = \"scope\" # The name of the scope created in your local computer using the Databricks CLI\n",
        "secret_key = \"key\" # The name of the secret key created in your local computer using the Databricks CLI \n",
        "blob_url = f\"wasbs://{blob_container}@{storage_account}.blob.core.windows.net\"\n",
        "mount_path = \"/mnt/path\""
      ],
      "metadata": {
        "application/vnd.databricks.v1+cell": {
          "title": "",
          "showTitle": false,
          "inputWidgets": {},
          "nuid": "6b05f6bc-17e3-4a8f-8dce-2b076055aa20"
        },
        "id": "KoSmt-aCp5KX",
        "outputId": "e7185f57-170e-408f-d364-4013a1874777"
      },
      "outputs": [
        {
          "output_type": "display_data",
          "metadata": {
            "application/vnd.databricks.v1+output": {
              "datasetInfos": [],
              "data": "<div class=\"ansiout\"></div>",
              "removedWidgets": [],
              "addedWidgets": {},
              "metadata": {},
              "type": "html",
              "arguments": {}
            }
          },
          "data": {
            "text/html": [
              "<style scoped>\n  .ansiout {\n    display: block;\n    unicode-bidi: embed;\n    white-space: pre-wrap;\n    word-wrap: break-word;\n    word-break: break-all;\n    font-family: \"Source Code Pro\", \"Menlo\", monospace;;\n    font-size: 13px;\n    color: #555;\n    margin-left: 4px;\n    line-height: 19px;\n  }\n</style>\n<div class=\"ansiout\"></div>"
            ]
          }
        }
      ],
      "execution_count": null
    },
    {
      "cell_type": "markdown",
      "source": [
        "### SAS Token"
      ],
      "metadata": {
        "application/vnd.databricks.v1+cell": {
          "title": "",
          "showTitle": false,
          "inputWidgets": {},
          "nuid": "5e3e71d2-9a52-479a-9b0d-28115df2548d"
        },
        "id": "Q1QBAb03p5Kb"
      }
    },
    {
      "cell_type": "code",
      "source": [
        "spark.conf.set(\n",
        "  f\"fs.azure.sas.{blob_container}.{storage_account}.blob.core.windows.net\",\n",
        "  dbutils.secrets.get(scope = secret_scope, key = secret_key)\n",
        ")"
      ],
      "metadata": {
        "application/vnd.databricks.v1+cell": {
          "title": "",
          "showTitle": false,
          "inputWidgets": {},
          "nuid": "5fc55b1c-7aa2-41c0-aab8-97324856296e"
        },
        "id": "r1hU13Crp5Ke",
        "outputId": "6106745b-d920-45dd-d2eb-a1fbdddc31e2"
      },
      "outputs": [
        {
          "output_type": "display_data",
          "metadata": {
            "application/vnd.databricks.v1+output": {
              "datasetInfos": [],
              "data": "<div class=\"ansiout\"></div>",
              "removedWidgets": [],
              "addedWidgets": {},
              "metadata": {},
              "type": "html",
              "arguments": {}
            }
          },
          "data": {
            "text/html": [
              "<style scoped>\n  .ansiout {\n    display: block;\n    unicode-bidi: embed;\n    white-space: pre-wrap;\n    word-wrap: break-word;\n    word-break: break-all;\n    font-family: \"Source Code Pro\", \"Menlo\", monospace;;\n    font-size: 13px;\n    color: #555;\n    margin-left: 4px;\n    line-height: 19px;\n  }\n</style>\n<div class=\"ansiout\"></div>"
            ]
          }
        }
      ],
      "execution_count": null
    },
    {
      "cell_type": "code",
      "source": [
        "# display(dbutils.fs.ls(f\"{blob_url}/weather_data_1d/\"))\n",
        "display(dbutils.fs.ls(f\"{blob_url}\"))"
      ],
      "metadata": {
        "application/vnd.databricks.v1+cell": {
          "title": "",
          "showTitle": false,
          "inputWidgets": {},
          "nuid": "de615489-831f-4c24-a892-a219657dd850"
        },
        "id": "dmFEbo_Wp5Kh",
        "outputId": "d4e53d35-196b-402c-f454-e41a4081b549"
      },
      "outputs": [
        {
          "output_type": "display_data",
          "metadata": {
            "application/vnd.databricks.v1+output": {
              "overflow": false,
              "datasetInfos": [],
              "data": [
                [
                  "wasbs://w261-g29@chiebel.blob.core.windows.net/2015_airport_pagerank/",
                  "2015_airport_pagerank/",
                  0
                ],
                [
                  "wasbs://w261-g29@chiebel.blob.core.windows.net/2016_airport_pagerank/",
                  "2016_airport_pagerank/",
                  0
                ],
                [
                  "wasbs://w261-g29@chiebel.blob.core.windows.net/2017_airport_pagerank/",
                  "2017_airport_pagerank/",
                  0
                ],
                [
                  "wasbs://w261-g29@chiebel.blob.core.windows.net/2018_airport_pagerank/",
                  "2018_airport_pagerank/",
                  0
                ],
                [
                  "wasbs://w261-g29@chiebel.blob.core.windows.net/aiport_codes/",
                  "aiport_codes/",
                  0
                ],
                [
                  "wasbs://w261-g29@chiebel.blob.core.windows.net/airline_test/",
                  "airline_test/",
                  0
                ],
                [
                  "wasbs://w261-g29@chiebel.blob.core.windows.net/airlines_df/",
                  "airlines_df/",
                  0
                ],
                [
                  "wasbs://w261-g29@chiebel.blob.core.windows.net/airlines_df_large/",
                  "airlines_df_large/",
                  0
                ],
                [
                  "wasbs://w261-g29@chiebel.blob.core.windows.net/airport_list_orig_dest/",
                  "airport_list_orig_dest/",
                  0
                ],
                [
                  "wasbs://w261-g29@chiebel.blob.core.windows.net/airports_orig_dest/",
                  "airports_orig_dest/",
                  0
                ],
                [
                  "wasbs://w261-g29@chiebel.blob.core.windows.net/closest_wx_station/",
                  "closest_wx_station/",
                  0
                ],
                [
                  "wasbs://w261-g29@chiebel.blob.core.windows.net/df_airlines_test/",
                  "df_airlines_test/",
                  0
                ],
                [
                  "wasbs://w261-g29@chiebel.blob.core.windows.net/dt_model/",
                  "dt_model/",
                  0
                ],
                [
                  "wasbs://w261-g29@chiebel.blob.core.windows.net/full_airport_set_pagerank/",
                  "full_airport_set_pagerank/",
                  0
                ],
                [
                  "wasbs://w261-g29@chiebel.blob.core.windows.net/joined_data/",
                  "joined_data/",
                  0
                ],
                [
                  "wasbs://w261-g29@chiebel.blob.core.windows.net/joined_data_big/",
                  "joined_data_big/",
                  0
                ],
                [
                  "wasbs://w261-g29@chiebel.blob.core.windows.net/joined_data_holdout/",
                  "joined_data_holdout/",
                  0
                ],
                [
                  "wasbs://w261-g29@chiebel.blob.core.windows.net/joined_data_large/",
                  "joined_data_large/",
                  0
                ],
                [
                  "wasbs://w261-g29@chiebel.blob.core.windows.net/joined_data_traintest/",
                  "joined_data_traintest/",
                  0
                ],
                [
                  "wasbs://w261-g29@chiebel.blob.core.windows.net/joined_data_updated/",
                  "joined_data_updated/",
                  0
                ],
                [
                  "wasbs://w261-g29@chiebel.blob.core.windows.net/joined_data_updated_big/",
                  "joined_data_updated_big/",
                  0
                ],
                [
                  "wasbs://w261-g29@chiebel.blob.core.windows.net/lr_model/",
                  "lr_model/",
                  0
                ],
                [
                  "wasbs://w261-g29@chiebel.blob.core.windows.net/small_airport_set_pagerank/",
                  "small_airport_set_pagerank/",
                  0
                ],
                [
                  "wasbs://w261-g29@chiebel.blob.core.windows.net/weather_processed_Q12015/",
                  "weather_processed_Q12015/",
                  0
                ],
                [
                  "wasbs://w261-g29@chiebel.blob.core.windows.net/wx_processed_large/",
                  "wx_processed_large/",
                  0
                ],
                [
                  "wasbs://w261-g29@chiebel.blob.core.windows.net/wx_processed_sml/",
                  "wx_processed_sml/",
                  0
                ],
                [
                  "wasbs://w261-g29@chiebel.blob.core.windows.net/wx_stations_with_timezones/",
                  "wx_stations_with_timezones/",
                  0
                ],
                [
                  "wasbs://w261-g29@chiebel.blob.core.windows.net/yearly_airport_pagerank/",
                  "yearly_airport_pagerank/",
                  0
                ]
              ],
              "plotOptions": {
                "displayType": "table",
                "customPlotOptions": {},
                "pivotColumns": null,
                "pivotAggregation": null,
                "xColumns": null,
                "yColumns": null
              },
              "columnCustomDisplayInfos": {},
              "aggType": "",
              "isJsonSchema": true,
              "removedWidgets": [],
              "aggSchema": [],
              "schema": [
                {
                  "name": "path",
                  "type": "\"string\"",
                  "metadata": "{}"
                },
                {
                  "name": "name",
                  "type": "\"string\"",
                  "metadata": "{}"
                },
                {
                  "name": "size",
                  "type": "\"long\"",
                  "metadata": "{}"
                }
              ],
              "aggError": "",
              "aggData": [],
              "addedWidgets": {},
              "metadata": {},
              "dbfsResultPath": null,
              "type": "table",
              "aggOverflow": false,
              "aggSeriesLimitReached": false,
              "arguments": {}
            }
          },
          "data": {
            "text/html": [
              "<style scoped>\n  .table-result-container {\n    max-height: 300px;\n    overflow: auto;\n  }\n  table, th, td {\n    border: 1px solid black;\n    border-collapse: collapse;\n  }\n  th, td {\n    padding: 5px;\n  }\n  th {\n    text-align: left;\n  }\n</style><div class='table-result-container'><table class='table-result'><thead style='background-color: white'><tr><th>path</th><th>name</th><th>size</th></tr></thead><tbody><tr><td>wasbs://w261-g29@chiebel.blob.core.windows.net/2015_airport_pagerank/</td><td>2015_airport_pagerank/</td><td>0</td></tr><tr><td>wasbs://w261-g29@chiebel.blob.core.windows.net/2016_airport_pagerank/</td><td>2016_airport_pagerank/</td><td>0</td></tr><tr><td>wasbs://w261-g29@chiebel.blob.core.windows.net/2017_airport_pagerank/</td><td>2017_airport_pagerank/</td><td>0</td></tr><tr><td>wasbs://w261-g29@chiebel.blob.core.windows.net/2018_airport_pagerank/</td><td>2018_airport_pagerank/</td><td>0</td></tr><tr><td>wasbs://w261-g29@chiebel.blob.core.windows.net/aiport_codes/</td><td>aiport_codes/</td><td>0</td></tr><tr><td>wasbs://w261-g29@chiebel.blob.core.windows.net/airline_test/</td><td>airline_test/</td><td>0</td></tr><tr><td>wasbs://w261-g29@chiebel.blob.core.windows.net/airlines_df/</td><td>airlines_df/</td><td>0</td></tr><tr><td>wasbs://w261-g29@chiebel.blob.core.windows.net/airlines_df_large/</td><td>airlines_df_large/</td><td>0</td></tr><tr><td>wasbs://w261-g29@chiebel.blob.core.windows.net/airport_list_orig_dest/</td><td>airport_list_orig_dest/</td><td>0</td></tr><tr><td>wasbs://w261-g29@chiebel.blob.core.windows.net/airports_orig_dest/</td><td>airports_orig_dest/</td><td>0</td></tr><tr><td>wasbs://w261-g29@chiebel.blob.core.windows.net/closest_wx_station/</td><td>closest_wx_station/</td><td>0</td></tr><tr><td>wasbs://w261-g29@chiebel.blob.core.windows.net/df_airlines_test/</td><td>df_airlines_test/</td><td>0</td></tr><tr><td>wasbs://w261-g29@chiebel.blob.core.windows.net/dt_model/</td><td>dt_model/</td><td>0</td></tr><tr><td>wasbs://w261-g29@chiebel.blob.core.windows.net/full_airport_set_pagerank/</td><td>full_airport_set_pagerank/</td><td>0</td></tr><tr><td>wasbs://w261-g29@chiebel.blob.core.windows.net/joined_data/</td><td>joined_data/</td><td>0</td></tr><tr><td>wasbs://w261-g29@chiebel.blob.core.windows.net/joined_data_big/</td><td>joined_data_big/</td><td>0</td></tr><tr><td>wasbs://w261-g29@chiebel.blob.core.windows.net/joined_data_holdout/</td><td>joined_data_holdout/</td><td>0</td></tr><tr><td>wasbs://w261-g29@chiebel.blob.core.windows.net/joined_data_large/</td><td>joined_data_large/</td><td>0</td></tr><tr><td>wasbs://w261-g29@chiebel.blob.core.windows.net/joined_data_traintest/</td><td>joined_data_traintest/</td><td>0</td></tr><tr><td>wasbs://w261-g29@chiebel.blob.core.windows.net/joined_data_updated/</td><td>joined_data_updated/</td><td>0</td></tr><tr><td>wasbs://w261-g29@chiebel.blob.core.windows.net/joined_data_updated_big/</td><td>joined_data_updated_big/</td><td>0</td></tr><tr><td>wasbs://w261-g29@chiebel.blob.core.windows.net/lr_model/</td><td>lr_model/</td><td>0</td></tr><tr><td>wasbs://w261-g29@chiebel.blob.core.windows.net/small_airport_set_pagerank/</td><td>small_airport_set_pagerank/</td><td>0</td></tr><tr><td>wasbs://w261-g29@chiebel.blob.core.windows.net/weather_processed_Q12015/</td><td>weather_processed_Q12015/</td><td>0</td></tr><tr><td>wasbs://w261-g29@chiebel.blob.core.windows.net/wx_processed_large/</td><td>wx_processed_large/</td><td>0</td></tr><tr><td>wasbs://w261-g29@chiebel.blob.core.windows.net/wx_processed_sml/</td><td>wx_processed_sml/</td><td>0</td></tr><tr><td>wasbs://w261-g29@chiebel.blob.core.windows.net/wx_stations_with_timezones/</td><td>wx_stations_with_timezones/</td><td>0</td></tr><tr><td>wasbs://w261-g29@chiebel.blob.core.windows.net/yearly_airport_pagerank/</td><td>yearly_airport_pagerank/</td><td>0</td></tr></tbody></table></div>"
            ]
          }
        }
      ],
      "execution_count": null
    },
    {
      "cell_type": "code",
      "source": [
        "# Inspect the Mount's Final Project folder \n",
        "display(dbutils.fs.ls(\"/mnt/mids-w261/datasets_final_project/parquet_airlines_data/\"))"
      ],
      "metadata": {
        "application/vnd.databricks.v1+cell": {
          "title": "",
          "showTitle": false,
          "inputWidgets": {},
          "nuid": "b8f05255-9555-45ef-9505-e065f219052c"
        },
        "id": "fvJC5lYKp5Ky",
        "outputId": "13bb4138-8d5c-4bf3-80ec-5c4d7c8e23c9"
      },
      "outputs": [
        {
          "output_type": "display_data",
          "metadata": {
            "application/vnd.databricks.v1+output": {
              "overflow": false,
              "datasetInfos": [],
              "data": [
                [
                  "dbfs:/mnt/mids-w261/datasets_final_project/parquet_airlines_data/2015.parquet/",
                  "2015.parquet/",
                  0
                ],
                [
                  "dbfs:/mnt/mids-w261/datasets_final_project/parquet_airlines_data/2016.parquet/",
                  "2016.parquet/",
                  0
                ],
                [
                  "dbfs:/mnt/mids-w261/datasets_final_project/parquet_airlines_data/2017.parquet/",
                  "2017.parquet/",
                  0
                ],
                [
                  "dbfs:/mnt/mids-w261/datasets_final_project/parquet_airlines_data/2018.parquet/",
                  "2018.parquet/",
                  0
                ],
                [
                  "dbfs:/mnt/mids-w261/datasets_final_project/parquet_airlines_data/2019.parquet/",
                  "2019.parquet/",
                  0
                ],
                [
                  "dbfs:/mnt/mids-w261/datasets_final_project/parquet_airlines_data/airlines_size_test.parquet/",
                  "airlines_size_test.parquet/",
                  0
                ]
              ],
              "plotOptions": {
                "displayType": "table",
                "customPlotOptions": {},
                "pivotColumns": null,
                "pivotAggregation": null,
                "xColumns": null,
                "yColumns": null
              },
              "columnCustomDisplayInfos": {},
              "aggType": "",
              "isJsonSchema": true,
              "removedWidgets": [],
              "aggSchema": [],
              "schema": [
                {
                  "name": "path",
                  "type": "\"string\"",
                  "metadata": "{}"
                },
                {
                  "name": "name",
                  "type": "\"string\"",
                  "metadata": "{}"
                },
                {
                  "name": "size",
                  "type": "\"long\"",
                  "metadata": "{}"
                }
              ],
              "aggError": "",
              "aggData": [],
              "addedWidgets": {},
              "metadata": {},
              "dbfsResultPath": null,
              "type": "table",
              "aggOverflow": false,
              "aggSeriesLimitReached": false,
              "arguments": {}
            }
          },
          "data": {
            "text/html": [
              "<style scoped>\n  .table-result-container {\n    max-height: 300px;\n    overflow: auto;\n  }\n  table, th, td {\n    border: 1px solid black;\n    border-collapse: collapse;\n  }\n  th, td {\n    padding: 5px;\n  }\n  th {\n    text-align: left;\n  }\n</style><div class='table-result-container'><table class='table-result'><thead style='background-color: white'><tr><th>path</th><th>name</th><th>size</th></tr></thead><tbody><tr><td>dbfs:/mnt/mids-w261/datasets_final_project/parquet_airlines_data/2015.parquet/</td><td>2015.parquet/</td><td>0</td></tr><tr><td>dbfs:/mnt/mids-w261/datasets_final_project/parquet_airlines_data/2016.parquet/</td><td>2016.parquet/</td><td>0</td></tr><tr><td>dbfs:/mnt/mids-w261/datasets_final_project/parquet_airlines_data/2017.parquet/</td><td>2017.parquet/</td><td>0</td></tr><tr><td>dbfs:/mnt/mids-w261/datasets_final_project/parquet_airlines_data/2018.parquet/</td><td>2018.parquet/</td><td>0</td></tr><tr><td>dbfs:/mnt/mids-w261/datasets_final_project/parquet_airlines_data/2019.parquet/</td><td>2019.parquet/</td><td>0</td></tr><tr><td>dbfs:/mnt/mids-w261/datasets_final_project/parquet_airlines_data/airlines_size_test.parquet/</td><td>airlines_size_test.parquet/</td><td>0</td></tr></tbody></table></div>"
            ]
          }
        }
      ],
      "execution_count": null
    },
    {
      "cell_type": "markdown",
      "source": [
        "### Load Smaller Airline Data"
      ],
      "metadata": {
        "application/vnd.databricks.v1+cell": {
          "title": "",
          "showTitle": false,
          "inputWidgets": {},
          "nuid": "1d1fcdce-99f1-44cb-a0a9-759a3e8483fc"
        },
        "id": "0EeZeoUxp5K4"
      }
    },
    {
      "cell_type": "code",
      "source": [
        "df_src_dest = spark.read.parquet(f\"{blob_url}/airlines_df/\")"
      ],
      "metadata": {
        "application/vnd.databricks.v1+cell": {
          "title": "",
          "showTitle": false,
          "inputWidgets": {},
          "nuid": "378231e6-bb2b-40a6-b365-ff960e8ac50a"
        },
        "id": "9LiZnIHAp5K7",
        "outputId": "b9e6df0c-201b-41f8-ef31-3628a1873397"
      },
      "outputs": [
        {
          "output_type": "display_data",
          "metadata": {
            "application/vnd.databricks.v1+output": {
              "datasetInfos": [],
              "data": "<div class=\"ansiout\"></div>",
              "removedWidgets": [],
              "addedWidgets": {},
              "metadata": {},
              "type": "html",
              "arguments": {}
            }
          },
          "data": {
            "text/html": [
              "<style scoped>\n  .ansiout {\n    display: block;\n    unicode-bidi: embed;\n    white-space: pre-wrap;\n    word-wrap: break-word;\n    word-break: break-all;\n    font-family: \"Source Code Pro\", \"Menlo\", monospace;;\n    font-size: 13px;\n    color: #555;\n    margin-left: 4px;\n    line-height: 19px;\n  }\n</style>\n<div class=\"ansiout\"></div>"
            ]
          }
        }
      ],
      "execution_count": null
    },
    {
      "cell_type": "code",
      "source": [
        "display(df_src_dest.limit(2))"
      ],
      "metadata": {
        "application/vnd.databricks.v1+cell": {
          "title": "",
          "showTitle": false,
          "inputWidgets": {},
          "nuid": "9092921e-276c-4ad8-ac4f-bbe9624dc7a4"
        },
        "id": "pfiAHwfGp5K_",
        "outputId": "2d435c14-b94e-44b7-ff15-422bb042dcac"
      },
      "outputs": [
        {
          "output_type": "display_data",
          "metadata": {
            "application/vnd.databricks.v1+output": {
              "overflow": false,
              "datasetInfos": [],
              "data": [
                [
                  2015,
                  2,
                  5,
                  9,
                  6,
                  "2015-05-09",
                  "B6",
                  20409,
                  1563,
                  13930,
                  30977,
                  "ORD",
                  17,
                  14843,
                  34819,
                  "SJU",
                  72,
                  851,
                  0,
                  "0800-0859",
                  1427,
                  "1400-1459",
                  2072,
                  9,
                  false,
                  "2015-05-09T08:51:00.000+0000",
                  "2015-05-09T13:51:00.000+0000",
                  "2015-05-09T11:51:00.000+0000",
                  "KORD",
                  "TJSJ"
                ],
                [
                  2015,
                  2,
                  5,
                  9,
                  6,
                  "2015-05-09",
                  "OO",
                  20304,
                  2827,
                  13930,
                  30977,
                  "ORD",
                  17,
                  13342,
                  33342,
                  "MKE",
                  55,
                  855,
                  1,
                  "0800-0859",
                  951,
                  "0900-0959",
                  67,
                  1,
                  false,
                  "2015-05-09T08:55:00.000+0000",
                  "2015-05-09T13:55:00.000+0000",
                  "2015-05-09T11:55:00.000+0000",
                  "KORD",
                  "KMKE"
                ]
              ],
              "plotOptions": {
                "displayType": "table",
                "customPlotOptions": {},
                "pivotColumns": null,
                "pivotAggregation": null,
                "xColumns": null,
                "yColumns": null
              },
              "columnCustomDisplayInfos": {},
              "aggType": "",
              "isJsonSchema": true,
              "removedWidgets": [],
              "aggSchema": [],
              "schema": [
                {
                  "name": "YEAR",
                  "type": "\"integer\"",
                  "metadata": "{}"
                },
                {
                  "name": "QUARTER",
                  "type": "\"integer\"",
                  "metadata": "{}"
                },
                {
                  "name": "MONTH",
                  "type": "\"integer\"",
                  "metadata": "{}"
                },
                {
                  "name": "DAY_OF_MONTH",
                  "type": "\"integer\"",
                  "metadata": "{}"
                },
                {
                  "name": "DAY_OF_WEEK",
                  "type": "\"integer\"",
                  "metadata": "{}"
                },
                {
                  "name": "FL_DATE",
                  "type": "\"string\"",
                  "metadata": "{}"
                },
                {
                  "name": "OP_UNIQUE_CARRIER",
                  "type": "\"string\"",
                  "metadata": "{}"
                },
                {
                  "name": "OP_CARRIER_AIRLINE_ID",
                  "type": "\"integer\"",
                  "metadata": "{}"
                },
                {
                  "name": "OP_CARRIER_FL_NUM",
                  "type": "\"integer\"",
                  "metadata": "{}"
                },
                {
                  "name": "ORIGIN_AIRPORT_ID",
                  "type": "\"integer\"",
                  "metadata": "{}"
                },
                {
                  "name": "ORIGIN_CITY_MARKET_ID",
                  "type": "\"integer\"",
                  "metadata": "{}"
                },
                {
                  "name": "ORIGIN",
                  "type": "\"string\"",
                  "metadata": "{}"
                },
                {
                  "name": "ORIGIN_STATE_FIPS",
                  "type": "\"integer\"",
                  "metadata": "{}"
                },
                {
                  "name": "DEST_AIRPORT_ID",
                  "type": "\"integer\"",
                  "metadata": "{}"
                },
                {
                  "name": "DEST_CITY_MARKET_ID",
                  "type": "\"integer\"",
                  "metadata": "{}"
                },
                {
                  "name": "DEST",
                  "type": "\"string\"",
                  "metadata": "{}"
                },
                {
                  "name": "DEST_STATE_FIPS",
                  "type": "\"integer\"",
                  "metadata": "{}"
                },
                {
                  "name": "CRS_DEP_TIME",
                  "type": "\"integer\"",
                  "metadata": "{}"
                },
                {
                  "name": "DEP_DEL15",
                  "type": "\"double\"",
                  "metadata": "{}"
                },
                {
                  "name": "DEP_TIME_BLK",
                  "type": "\"string\"",
                  "metadata": "{}"
                },
                {
                  "name": "CRS_ARR_TIME",
                  "type": "\"integer\"",
                  "metadata": "{}"
                },
                {
                  "name": "ARR_TIME_BLK",
                  "type": "\"string\"",
                  "metadata": "{}"
                },
                {
                  "name": "DISTANCE",
                  "type": "\"double\"",
                  "metadata": "{}"
                },
                {
                  "name": "DISTANCE_GROUP",
                  "type": "\"integer\"",
                  "metadata": "{}"
                },
                {
                  "name": "BAD_TRAVEL_DAY",
                  "type": "\"boolean\"",
                  "metadata": "{}"
                },
                {
                  "name": "DEP_TIMESTAMP",
                  "type": "\"timestamp\"",
                  "metadata": "{}"
                },
                {
                  "name": "DEP_TIMESTAMP_UTC",
                  "type": "\"timestamp\"",
                  "metadata": "{}"
                },
                {
                  "name": "DEP_TIMESTAMP_UTC_MINUS2",
                  "type": "\"timestamp\"",
                  "metadata": "{}"
                },
                {
                  "name": "WX_STATION_ORIG",
                  "type": "\"string\"",
                  "metadata": "{}"
                },
                {
                  "name": "WX_STATION_DEST",
                  "type": "\"string\"",
                  "metadata": "{}"
                }
              ],
              "aggError": "",
              "aggData": [],
              "addedWidgets": {},
              "metadata": {},
              "dbfsResultPath": null,
              "type": "table",
              "aggOverflow": false,
              "aggSeriesLimitReached": false,
              "arguments": {}
            }
          },
          "data": {
            "text/html": [
              "<style scoped>\n  .table-result-container {\n    max-height: 300px;\n    overflow: auto;\n  }\n  table, th, td {\n    border: 1px solid black;\n    border-collapse: collapse;\n  }\n  th, td {\n    padding: 5px;\n  }\n  th {\n    text-align: left;\n  }\n</style><div class='table-result-container'><table class='table-result'><thead style='background-color: white'><tr><th>YEAR</th><th>QUARTER</th><th>MONTH</th><th>DAY_OF_MONTH</th><th>DAY_OF_WEEK</th><th>FL_DATE</th><th>OP_UNIQUE_CARRIER</th><th>OP_CARRIER_AIRLINE_ID</th><th>OP_CARRIER_FL_NUM</th><th>ORIGIN_AIRPORT_ID</th><th>ORIGIN_CITY_MARKET_ID</th><th>ORIGIN</th><th>ORIGIN_STATE_FIPS</th><th>DEST_AIRPORT_ID</th><th>DEST_CITY_MARKET_ID</th><th>DEST</th><th>DEST_STATE_FIPS</th><th>CRS_DEP_TIME</th><th>DEP_DEL15</th><th>DEP_TIME_BLK</th><th>CRS_ARR_TIME</th><th>ARR_TIME_BLK</th><th>DISTANCE</th><th>DISTANCE_GROUP</th><th>BAD_TRAVEL_DAY</th><th>DEP_TIMESTAMP</th><th>DEP_TIMESTAMP_UTC</th><th>DEP_TIMESTAMP_UTC_MINUS2</th><th>WX_STATION_ORIG</th><th>WX_STATION_DEST</th></tr></thead><tbody><tr><td>2015</td><td>2</td><td>5</td><td>9</td><td>6</td><td>2015-05-09</td><td>B6</td><td>20409</td><td>1563</td><td>13930</td><td>30977</td><td>ORD</td><td>17</td><td>14843</td><td>34819</td><td>SJU</td><td>72</td><td>851</td><td>0.0</td><td>0800-0859</td><td>1427</td><td>1400-1459</td><td>2072.0</td><td>9</td><td>false</td><td>2015-05-09T08:51:00.000+0000</td><td>2015-05-09T13:51:00.000+0000</td><td>2015-05-09T11:51:00.000+0000</td><td>KORD</td><td>TJSJ</td></tr><tr><td>2015</td><td>2</td><td>5</td><td>9</td><td>6</td><td>2015-05-09</td><td>OO</td><td>20304</td><td>2827</td><td>13930</td><td>30977</td><td>ORD</td><td>17</td><td>13342</td><td>33342</td><td>MKE</td><td>55</td><td>855</td><td>1.0</td><td>0800-0859</td><td>951</td><td>0900-0959</td><td>67.0</td><td>1</td><td>false</td><td>2015-05-09T08:55:00.000+0000</td><td>2015-05-09T13:55:00.000+0000</td><td>2015-05-09T11:55:00.000+0000</td><td>KORD</td><td>KMKE</td></tr></tbody></table></div>"
            ]
          }
        }
      ],
      "execution_count": null
    },
    {
      "cell_type": "markdown",
      "source": [
        "### A function to pick source and destination airports and create the adjacency list"
      ],
      "metadata": {
        "application/vnd.databricks.v1+cell": {
          "title": "",
          "showTitle": false,
          "inputWidgets": {},
          "nuid": "fc4933e7-9e43-4ecb-bf40-1bb9aaee8acd"
        },
        "id": "y3iAM7mZp5LC"
      }
    },
    {
      "cell_type": "code",
      "source": [
        "def createAdjListRDD(df_f_src_dest):\n",
        "    '''\n",
        "    A function to create edges rdd based on origin and destination\n",
        "    input: source dataframe with airport origin and destination\n",
        "    output: airport edges in rdd format \n",
        "    '''\n",
        "    airport_f_edges = (df_f_src_dest\n",
        "                 .select(\n",
        "                    F.col('ORIGIN').alias('src'),\n",
        "                    F.col('DEST').alias('dst')\n",
        "                ))\n",
        "\n",
        "    airport_f_edges = airport_f_edges.drop_duplicates()\n",
        "    airport_f_edges.count()\n",
        "    \n",
        "    df1_f = airport_f_edges.select(['src'])\n",
        "    df2_f = airport_f_edges.select(['dst']).withColumnRenamed('dst', 'src')\n",
        "\n",
        "    airport_f_nodes = df1_f.union(df2_f).drop_duplicates()\n",
        "    airport_f_nodes.count()\n",
        "    \n",
        "    temp_f_air_edge = airport_f_nodes.select(['src']).withColumn('dst', lit(None))\n",
        "    temp_f_air_edge.count()\n",
        "    \n",
        "    edge_f_df = airport_f_edges.union(temp_f_air_edge)\n",
        "    edge_f_df.count()\n",
        "    \n",
        "    edges_f_adj_list = edge_f_df.groupBy('src').agg(F.collect_list('dst'))\n",
        "    \n",
        "    edges_f_rdd = edges_f_adj_list.rdd\n",
        "    \n",
        "    return edges_f_rdd"
      ],
      "metadata": {
        "application/vnd.databricks.v1+cell": {
          "title": "",
          "showTitle": false,
          "inputWidgets": {},
          "nuid": "e145fa7d-2a79-47df-ae2a-312083592250"
        },
        "id": "lI16K6uqp5LE",
        "outputId": "6a791157-eb17-4f87-fbba-0a84fb27400b"
      },
      "outputs": [
        {
          "output_type": "display_data",
          "metadata": {
            "application/vnd.databricks.v1+output": {
              "datasetInfos": [],
              "data": "<div class=\"ansiout\"></div>",
              "removedWidgets": [],
              "addedWidgets": {},
              "metadata": {},
              "type": "html",
              "arguments": {}
            }
          },
          "data": {
            "text/html": [
              "<style scoped>\n  .ansiout {\n    display: block;\n    unicode-bidi: embed;\n    white-space: pre-wrap;\n    word-wrap: break-word;\n    word-break: break-all;\n    font-family: \"Source Code Pro\", \"Menlo\", monospace;;\n    font-size: 13px;\n    color: #555;\n    margin-left: 4px;\n    line-height: 19px;\n  }\n</style>\n<div class=\"ansiout\"></div>"
            ]
          }
        }
      ],
      "execution_count": null
    },
    {
      "cell_type": "code",
      "source": [
        "# job to initialize the graph\n",
        "def initGraph(dataRDD):\n",
        "          \n",
        "    # total node count\n",
        "    totalCount = dataRDD.count()\n",
        "            \n",
        "    graphRDD = dataRDD.map(lambda x: (x[0],((1/totalCount),x[1])))\n",
        "            \n",
        "    return graphRDD"
      ],
      "metadata": {
        "application/vnd.databricks.v1+cell": {
          "title": "",
          "showTitle": false,
          "inputWidgets": {},
          "nuid": "e35c930a-b72d-47b2-93bc-b9a7dd88d822"
        },
        "id": "YwwbXf9Rp5LI",
        "outputId": "71c95c8b-a650-4a6b-a549-627e4b8c83f7"
      },
      "outputs": [
        {
          "output_type": "display_data",
          "metadata": {
            "application/vnd.databricks.v1+output": {
              "datasetInfos": [],
              "data": "<div class=\"ansiout\"></div>",
              "removedWidgets": [],
              "addedWidgets": {},
              "metadata": {},
              "type": "html",
              "arguments": {}
            }
          },
          "data": {
            "text/html": [
              "<style scoped>\n  .ansiout {\n    display: block;\n    unicode-bidi: embed;\n    white-space: pre-wrap;\n    word-wrap: break-word;\n    word-break: break-all;\n    font-family: \"Source Code Pro\", \"Menlo\", monospace;;\n    font-size: 13px;\n    color: #555;\n    margin-left: 4px;\n    line-height: 19px;\n  }\n</style>\n<div class=\"ansiout\"></div>"
            ]
          }
        }
      ],
      "execution_count": null
    },
    {
      "cell_type": "code",
      "source": [
        "# FloatAccumulatorParam class\n",
        "from pyspark.accumulators import AccumulatorParam\n",
        "\n",
        "class FloatAccumulatorParam(AccumulatorParam):\n",
        "    \n",
        "    def zero(self, value):\n",
        "        return value\n",
        "    \n",
        "    def addInPlace(self, val1, val2):\n",
        "        return val1 + val2"
      ],
      "metadata": {
        "application/vnd.databricks.v1+cell": {
          "title": "",
          "showTitle": false,
          "inputWidgets": {},
          "nuid": "05a9197d-1fbf-4f3c-9334-d19123c49964"
        },
        "id": "IlRiRLBOp5LL",
        "outputId": "e0da807b-bd98-4971-c7b2-551f74c83626"
      },
      "outputs": [
        {
          "output_type": "display_data",
          "metadata": {
            "application/vnd.databricks.v1+output": {
              "datasetInfos": [],
              "data": "<div class=\"ansiout\"></div>",
              "removedWidgets": [],
              "addedWidgets": {},
              "metadata": {},
              "type": "html",
              "arguments": {}
            }
          },
          "data": {
            "text/html": [
              "<style scoped>\n  .ansiout {\n    display: block;\n    unicode-bidi: embed;\n    white-space: pre-wrap;\n    word-wrap: break-word;\n    word-break: break-all;\n    font-family: \"Source Code Pro\", \"Menlo\", monospace;;\n    font-size: 13px;\n    color: #555;\n    margin-left: 4px;\n    line-height: 19px;\n  }\n</style>\n<div class=\"ansiout\"></div>"
            ]
          }
        }
      ],
      "execution_count": null
    },
    {
      "cell_type": "code",
      "source": [
        "\n",
        "def runPageRank(graphInitRDD, alpha = 0.15, maxIter = 10, verbose = True):\n",
        "    \n",
        "    # teleportation:\n",
        "    a = sc.broadcast(alpha)\n",
        "    \n",
        "    # damping factor:\n",
        "    d = sc.broadcast(1-a.value)\n",
        "    \n",
        "    # initialize accumulators for dangling mass & total mass\n",
        "    mmAccum = sc.accumulator(0.0, FloatAccumulatorParam())\n",
        "    totAccum = sc.accumulator(0.0, FloatAccumulatorParam())\n",
        "        \n",
        "    \n",
        "    n = graphInitRDD.count()\n",
        "    sc.broadcast(n)\n",
        "    \n",
        "    def initDistribute(line):\n",
        "        # helper function to do initial page rank distribution to nodes\n",
        "        # yield (key, (1-α)*pageRank)\n",
        "        initPRank = line[1][0]\n",
        "        outNodes = list(line[1][1])\n",
        "        curNode = line[0]\n",
        "        totalOutlinks = len(line[1][1])\n",
        "        adiList = line[1][1]                \n",
        "        \n",
        "        # If outbound nodes exist yield\n",
        "        if outNodes:\n",
        "            for i in outNodes:\n",
        "                yield (i,(d.value*initPRank*1/totalOutlinks))\n",
        "                \n",
        "        else:\n",
        "        # add dangling mass to the accumulator        \n",
        "            mmAccum.add(initPRank)\n",
        "          \n",
        "        # yield the dangling node  \n",
        "        yield (curNode,(0))\n",
        "            \n",
        "    def dmassDistribute(line):\n",
        "        # helper function to distribute dangling mass and add teleportation factor\n",
        "        # yield (key, (((α)*1/|G| + (1-α)*m/|G|)        \n",
        "        yield (line[0],((a.value/n)+(d.value*mm/n))) \n",
        "           \n",
        "        \n",
        "    # create the adjuscency list RDD\n",
        "    adjRDD = graphInitRDD.map(lambda x: (x[0], x[1][1])).cache()   \n",
        "    \n",
        "    # Initialize RDD to be processesed for each iteration\n",
        "    intStateRDD = graphInitRDD\n",
        "    \n",
        "    # Iterate and update intStateRDD after each iteration\n",
        "    \n",
        "    for i in range(maxIter):\n",
        "        \n",
        "        # Create the first RDD with the initial page rank distribution\n",
        "        firstStateRDD = intStateRDD.flatMap(initDistribute).reduceByKey(lambda x,y: x+y)\n",
        "        # Make an action for evaluation of firstStateRDD (to add dangling mass to accumulator)\n",
        "        FRDD = firstStateRDD.take(1)\n",
        "    \n",
        "        # Broadcast dangling mass\n",
        "        mm = float(mmAccum.value)\n",
        "        sc.broadcast(mm)\n",
        "        \n",
        "        # Create a second RDD with the distributed dangling mass and teleportation\n",
        "        secondStateRDD = adjRDD.flatMap(dmassDistribute)\n",
        "        \n",
        "        # Reset dangling mass accumulator\n",
        "        mmAccum.value = 0\n",
        "        \n",
        "        # Join distributed page rank and dangling mass RDDs and reduce by key \n",
        "        steadyStateRDD = sc.union([firstStateRDD,secondStateRDD]).reduceByKey(lambda x,y: x+y)\n",
        "        #Make an action for evaluation of steadyStateRDD  to be used in the next join\n",
        "        SRDD = steadyStateRDD.take(1)       \n",
        "     \n",
        "        \n",
        "        # Update the intStateRDD by joining current page ranks with the adjascency list RDD\n",
        "        intStateRDD = steadyStateRDD.join(adjRDD)\n",
        "            \n",
        "\n",
        "    return steadyStateRDD"
      ],
      "metadata": {
        "application/vnd.databricks.v1+cell": {
          "title": "",
          "showTitle": false,
          "inputWidgets": {},
          "nuid": "315839a8-92d9-45d1-b08d-92846d04f9e9"
        },
        "id": "lfe5J0hzp5LP",
        "outputId": "6d71627c-c53f-49be-f7aa-a9580c357fae"
      },
      "outputs": [
        {
          "output_type": "display_data",
          "metadata": {
            "application/vnd.databricks.v1+output": {
              "datasetInfos": [],
              "data": "<div class=\"ansiout\"></div>",
              "removedWidgets": [],
              "addedWidgets": {},
              "metadata": {},
              "type": "html",
              "arguments": {}
            }
          },
          "data": {
            "text/html": [
              "<style scoped>\n  .ansiout {\n    display: block;\n    unicode-bidi: embed;\n    white-space: pre-wrap;\n    word-wrap: break-word;\n    word-break: break-all;\n    font-family: \"Source Code Pro\", \"Menlo\", monospace;;\n    font-size: 13px;\n    color: #555;\n    margin-left: 4px;\n    line-height: 19px;\n  }\n</style>\n<div class=\"ansiout\"></div>"
            ]
          }
        }
      ],
      "execution_count": null
    },
    {
      "cell_type": "code",
      "source": [
        "edges_rdd = createAdjListRDD(df_src_dest)"
      ],
      "metadata": {
        "application/vnd.databricks.v1+cell": {
          "title": "",
          "showTitle": false,
          "inputWidgets": {},
          "nuid": "930fae50-84e5-4fed-9a2b-679a6467ddd6"
        },
        "id": "zdoMVtPbp5LT",
        "outputId": "4c597cab-9cad-4afc-e051-b90534f1a6ff"
      },
      "outputs": [
        {
          "output_type": "display_data",
          "metadata": {
            "application/vnd.databricks.v1+output": {
              "datasetInfos": [],
              "data": "<div class=\"ansiout\"></div>",
              "removedWidgets": [],
              "addedWidgets": {},
              "metadata": {},
              "type": "html",
              "arguments": {}
            }
          },
          "data": {
            "text/html": [
              "<style scoped>\n  .ansiout {\n    display: block;\n    unicode-bidi: embed;\n    white-space: pre-wrap;\n    word-wrap: break-word;\n    word-break: break-all;\n    font-family: \"Source Code Pro\", \"Menlo\", monospace;;\n    font-size: 13px;\n    color: #555;\n    margin-left: 4px;\n    line-height: 19px;\n  }\n</style>\n<div class=\"ansiout\"></div>"
            ]
          }
        }
      ],
      "execution_count": null
    },
    {
      "cell_type": "code",
      "source": [
        "nIter = 10\n",
        "testGraph = initGraph(edges_rdd).cache()\n",
        "test_results = runPageRank(testGraph, alpha = 0.15, maxIter = nIter, verbose = False) \\\n",
        "                .toDF().withColumnRenamed('_1', 'code').withColumnRenamed('_2', 'rank')\n",
        "\n",
        "# Write file to cloud storage\n",
        "test_results.write.mode('overwrite').parquet(f'{blob_url}/small_airport_set_pagerank')\n"
      ],
      "metadata": {
        "application/vnd.databricks.v1+cell": {
          "title": "",
          "showTitle": false,
          "inputWidgets": {},
          "nuid": "e03af3c5-ad5b-4ce5-a6f2-cd8a3848c775"
        },
        "id": "Kd5Q3LW_p5LW",
        "outputId": "7086e36e-1ac8-4ae2-8989-d8c3964e4901"
      },
      "outputs": [
        {
          "output_type": "display_data",
          "metadata": {
            "application/vnd.databricks.v1+output": {
              "datasetInfos": [],
              "data": "<div class=\"ansiout\"></div>",
              "removedWidgets": [],
              "addedWidgets": {},
              "metadata": {},
              "type": "html",
              "arguments": {}
            }
          },
          "data": {
            "text/html": [
              "<style scoped>\n  .ansiout {\n    display: block;\n    unicode-bidi: embed;\n    white-space: pre-wrap;\n    word-wrap: break-word;\n    word-break: break-all;\n    font-family: \"Source Code Pro\", \"Menlo\", monospace;;\n    font-size: 13px;\n    color: #555;\n    margin-left: 4px;\n    line-height: 19px;\n  }\n</style>\n<div class=\"ansiout\"></div>"
            ]
          }
        }
      ],
      "execution_count": null
    },
    {
      "cell_type": "code",
      "source": [
        "# Read joined data from cloud storage\n",
        "test_pagerank = spark.read.parquet(f'{blob_url}/small_airport_set_pagerank')"
      ],
      "metadata": {
        "application/vnd.databricks.v1+cell": {
          "title": "",
          "showTitle": false,
          "inputWidgets": {},
          "nuid": "bd9abd2c-bb82-4f8a-9bd7-f46fe6304411"
        },
        "id": "K7aIeH-Rp5LY",
        "outputId": "c6563f12-0619-430e-8293-33a73311fb49"
      },
      "outputs": [
        {
          "output_type": "display_data",
          "metadata": {
            "application/vnd.databricks.v1+output": {
              "datasetInfos": [],
              "data": "<div class=\"ansiout\"></div>",
              "removedWidgets": [],
              "addedWidgets": {},
              "metadata": {},
              "type": "html",
              "arguments": {}
            }
          },
          "data": {
            "text/html": [
              "<style scoped>\n  .ansiout {\n    display: block;\n    unicode-bidi: embed;\n    white-space: pre-wrap;\n    word-wrap: break-word;\n    word-break: break-all;\n    font-family: \"Source Code Pro\", \"Menlo\", monospace;;\n    font-size: 13px;\n    color: #555;\n    margin-left: 4px;\n    line-height: 19px;\n  }\n</style>\n<div class=\"ansiout\"></div>"
            ]
          }
        }
      ],
      "execution_count": null
    },
    {
      "cell_type": "code",
      "source": [
        "top_2 = test_pagerank.sort('rank',ascending=False)\n",
        "display(top_2.limit(2))"
      ],
      "metadata": {
        "application/vnd.databricks.v1+cell": {
          "title": "",
          "showTitle": false,
          "inputWidgets": {},
          "nuid": "e6a84692-ca3f-4c82-860a-365f9d0d396a"
        },
        "id": "pjFT7a0lp5LZ",
        "outputId": "c75077fe-6637-4937-ff10-a4dc4d2b7764"
      },
      "outputs": [
        {
          "output_type": "display_data",
          "metadata": {
            "application/vnd.databricks.v1+output": {
              "overflow": false,
              "datasetInfos": [],
              "data": [
                [
                  "PVD",
                  0.005110676630726885
                ],
                [
                  "MBS",
                  0.005110676630726885
                ]
              ],
              "plotOptions": {
                "displayType": "table",
                "customPlotOptions": {},
                "pivotColumns": null,
                "pivotAggregation": null,
                "xColumns": null,
                "yColumns": null
              },
              "columnCustomDisplayInfos": {},
              "aggType": "",
              "isJsonSchema": true,
              "removedWidgets": [],
              "aggSchema": [],
              "schema": [
                {
                  "name": "code",
                  "type": "\"string\"",
                  "metadata": "{}"
                },
                {
                  "name": "rank",
                  "type": "\"double\"",
                  "metadata": "{}"
                }
              ],
              "aggError": "",
              "aggData": [],
              "addedWidgets": {},
              "metadata": {},
              "dbfsResultPath": null,
              "type": "table",
              "aggOverflow": false,
              "aggSeriesLimitReached": false,
              "arguments": {}
            }
          },
          "data": {
            "text/html": [
              "<style scoped>\n  .table-result-container {\n    max-height: 300px;\n    overflow: auto;\n  }\n  table, th, td {\n    border: 1px solid black;\n    border-collapse: collapse;\n  }\n  th, td {\n    padding: 5px;\n  }\n  th {\n    text-align: left;\n  }\n</style><div class='table-result-container'><table class='table-result'><thead style='background-color: white'><tr><th>code</th><th>rank</th></tr></thead><tbody><tr><td>PVD</td><td>0.005110676630726885</td></tr><tr><td>MBS</td><td>0.005110676630726885</td></tr></tbody></table></div>"
            ]
          }
        }
      ],
      "execution_count": null
    },
    {
      "cell_type": "markdown",
      "source": [
        "## Load full airline data and create page rank"
      ],
      "metadata": {
        "application/vnd.databricks.v1+cell": {
          "title": "",
          "showTitle": false,
          "inputWidgets": {},
          "nuid": "660ae022-aff7-416c-9363-000d83cdb53e"
        },
        "id": "TIIxcD9op5Lb"
      }
    },
    {
      "cell_type": "code",
      "source": [
        "#Load data by year\n",
        "df_f_src_dest_2015 = spark.read.parquet('dbfs:/mnt/parquet_airlines_data/2015.parquet/')\n",
        "df_f_src_dest_2016 = spark.read.parquet('dbfs:/mnt/parquet_airlines_data/2016.parquet/')\n",
        "df_f_src_dest_2017 = spark.read.parquet('dbfs:/mnt/parquet_airlines_data/2017.parquet/')\n",
        "df_f_src_dest_2018 = spark.read.parquet('dbfs:/mnt/parquet_airlines_data/2018.parquet/')\n",
        "#For all years (2015-2018) together\n",
        "df_f_src_dest = spark.read.parquet(f'{blob_url}/joined_data_traintest')"
      ],
      "metadata": {
        "application/vnd.databricks.v1+cell": {
          "title": "",
          "showTitle": false,
          "inputWidgets": {},
          "nuid": "3ca36e8c-6af8-4dd2-8c57-aab6dc7e148b"
        },
        "id": "RKbcprRcp5Le",
        "outputId": "aa105389-0d07-472d-b3ce-5cee31dfd85d"
      },
      "outputs": [
        {
          "output_type": "display_data",
          "metadata": {
            "application/vnd.databricks.v1+output": {
              "datasetInfos": [],
              "data": "<div class=\"ansiout\"></div>",
              "removedWidgets": [],
              "addedWidgets": {},
              "metadata": {},
              "type": "html",
              "arguments": {}
            }
          },
          "data": {
            "text/html": [
              "<style scoped>\n  .ansiout {\n    display: block;\n    unicode-bidi: embed;\n    white-space: pre-wrap;\n    word-wrap: break-word;\n    word-break: break-all;\n    font-family: \"Source Code Pro\", \"Menlo\", monospace;;\n    font-size: 13px;\n    color: #555;\n    margin-left: 4px;\n    line-height: 19px;\n  }\n</style>\n<div class=\"ansiout\"></div>"
            ]
          }
        }
      ],
      "execution_count": null
    },
    {
      "cell_type": "code",
      "source": [
        "df_f_src_dest.count()"
      ],
      "metadata": {
        "application/vnd.databricks.v1+cell": {
          "title": "",
          "showTitle": false,
          "inputWidgets": {},
          "nuid": "74c38bb2-0950-4608-b064-84e5fe097927"
        },
        "id": "oJNaO_VNp5Lh",
        "outputId": "01c5a6b6-dd02-4cc0-bdd4-017649940981"
      },
      "outputs": [
        {
          "output_type": "display_data",
          "metadata": {
            "application/vnd.databricks.v1+output": {
              "datasetInfos": [],
              "data": "<div class=\"ansiout\">Out[96]: 23958078</div>",
              "removedWidgets": [],
              "addedWidgets": {},
              "metadata": {},
              "type": "html",
              "arguments": {}
            }
          },
          "data": {
            "text/html": [
              "<style scoped>\n  .ansiout {\n    display: block;\n    unicode-bidi: embed;\n    white-space: pre-wrap;\n    word-wrap: break-word;\n    word-break: break-all;\n    font-family: \"Source Code Pro\", \"Menlo\", monospace;;\n    font-size: 13px;\n    color: #555;\n    margin-left: 4px;\n    line-height: 19px;\n  }\n</style>\n<div class=\"ansiout\">Out[96]: 23958078</div>"
            ]
          }
        }
      ],
      "execution_count": null
    },
    {
      "cell_type": "code",
      "source": [
        "display(df_f_src_dest.limit(2))"
      ],
      "metadata": {
        "application/vnd.databricks.v1+cell": {
          "title": "",
          "showTitle": false,
          "inputWidgets": {},
          "nuid": "c0a48db3-3b70-44fa-89ae-916ee8de5641"
        },
        "id": "jDbSNX2Cp5Li",
        "outputId": "5e50302b-a3e2-44b7-ced4-e00e43933076"
      },
      "outputs": [
        {
          "output_type": "display_data",
          "metadata": {
            "application/vnd.databricks.v1+output": {
              "overflow": false,
              "datasetInfos": [],
              "data": [
                [
                  2015,
                  1,
                  3,
                  4,
                  3,
                  "2015-03-04",
                  "EV",
                  20366,
                  5446,
                  11433,
                  31295,
                  "DTW",
                  26,
                  10434,
                  30434,
                  "AVP",
                  42,
                  1950,
                  0,
                  "1900-1959",
                  2117,
                  "2100-2159",
                  399,
                  2,
                  0,
                  "2015-03-04T19:50:00.000+0000",
                  "2015-03-05T00:50:00.000+0000",
                  "2015-03-04T22:50:00.000+0000",
                  "KDTW",
                  "KAVP",
                  "KDTW",
                  "2015-03-04T21:53:00.000+0000",
                  "2015-03-04T22:52:59.000+0000",
                  192.3,
                  1016,
                  "10.0",
                  "-0.60000",
                  "-12.20000",
                  22001,
                  "15.0",
                  "22.0",
                  0,
                  0,
                  "0.0",
                  "0.0",
                  0,
                  0,
                  0,
                  0,
                  0,
                  0,
                  0,
                  0,
                  0,
                  0,
                  0,
                  0,
                  0,
                  0,
                  0,
                  "KAVP",
                  "2015-03-04T22:39:00.000+0000",
                  "2015-03-04T22:53:59.000+0000",
                  283.5,
                  1011,
                  "7.0",
                  "3.90000",
                  "0.60000",
                  5000,
                  "6.0",
                  "0.0",
                  0,
                  0,
                  "0.0",
                  "0.0",
                  0,
                  0,
                  0,
                  0,
                  0,
                  0,
                  0,
                  0,
                  0,
                  0,
                  0,
                  0,
                  0,
                  0,
                  0
                ],
                [
                  2015,
                  1,
                  3,
                  4,
                  3,
                  "2015-03-04",
                  "EV",
                  20366,
                  4922,
                  10397,
                  30397,
                  "ATL",
                  13,
                  10434,
                  30434,
                  "AVP",
                  42,
                  2100,
                  0,
                  "2100-2159",
                  2300,
                  "2300-2359",
                  714,
                  3,
                  0,
                  "2015-03-04T21:00:00.000+0000",
                  "2015-03-05T02:00:00.000+0000",
                  "2015-03-05T00:00:00.000+0000",
                  "KATL",
                  "KAVP",
                  "KATL",
                  "2015-03-04T23:52:00.000+0000",
                  "2015-03-05T00:51:59.000+0000",
                  307.8,
                  1013,
                  "10.0",
                  "21.70000",
                  "15.00000",
                  25000,
                  "11.1",
                  "0.0",
                  0,
                  0,
                  "0.0",
                  "0.0",
                  0,
                  0,
                  0,
                  0,
                  0,
                  0,
                  0,
                  0,
                  0,
                  0,
                  0,
                  0,
                  0,
                  0,
                  0,
                  "KAVP",
                  "2015-03-04T23:54:00.000+0000",
                  "2015-03-05T00:53:59.000+0000",
                  283.5,
                  1011,
                  "8.0",
                  "3.90000",
                  "0.00000",
                  5000,
                  "6.0",
                  "0.0",
                  0,
                  0,
                  "0.0",
                  "0.0",
                  0,
                  0,
                  0,
                  0,
                  0,
                  0,
                  0,
                  0,
                  0,
                  0,
                  0,
                  0,
                  0,
                  0,
                  0
                ]
              ],
              "plotOptions": {
                "displayType": "table",
                "customPlotOptions": {},
                "pivotColumns": null,
                "pivotAggregation": null,
                "xColumns": null,
                "yColumns": null
              },
              "columnCustomDisplayInfos": {},
              "aggType": "",
              "isJsonSchema": true,
              "removedWidgets": [],
              "aggSchema": [],
              "schema": [
                {
                  "name": "YEAR",
                  "type": "\"integer\"",
                  "metadata": "{}"
                },
                {
                  "name": "QUARTER",
                  "type": "\"integer\"",
                  "metadata": "{}"
                },
                {
                  "name": "MONTH",
                  "type": "\"integer\"",
                  "metadata": "{}"
                },
                {
                  "name": "DAY_OF_MONTH",
                  "type": "\"integer\"",
                  "metadata": "{}"
                },
                {
                  "name": "DAY_OF_WEEK",
                  "type": "\"integer\"",
                  "metadata": "{}"
                },
                {
                  "name": "FL_DATE",
                  "type": "\"string\"",
                  "metadata": "{}"
                },
                {
                  "name": "OP_UNIQUE_CARRIER",
                  "type": "\"string\"",
                  "metadata": "{}"
                },
                {
                  "name": "OP_CARRIER_AIRLINE_ID",
                  "type": "\"integer\"",
                  "metadata": "{}"
                },
                {
                  "name": "OP_CARRIER_FL_NUM",
                  "type": "\"integer\"",
                  "metadata": "{}"
                },
                {
                  "name": "ORIGIN_AIRPORT_ID",
                  "type": "\"integer\"",
                  "metadata": "{}"
                },
                {
                  "name": "ORIGIN_CITY_MARKET_ID",
                  "type": "\"integer\"",
                  "metadata": "{}"
                },
                {
                  "name": "ORIGIN",
                  "type": "\"string\"",
                  "metadata": "{}"
                },
                {
                  "name": "ORIGIN_STATE_FIPS",
                  "type": "\"integer\"",
                  "metadata": "{}"
                },
                {
                  "name": "DEST_AIRPORT_ID",
                  "type": "\"integer\"",
                  "metadata": "{}"
                },
                {
                  "name": "DEST_CITY_MARKET_ID",
                  "type": "\"integer\"",
                  "metadata": "{}"
                },
                {
                  "name": "DEST",
                  "type": "\"string\"",
                  "metadata": "{}"
                },
                {
                  "name": "DEST_STATE_FIPS",
                  "type": "\"integer\"",
                  "metadata": "{}"
                },
                {
                  "name": "CRS_DEP_TIME",
                  "type": "\"integer\"",
                  "metadata": "{}"
                },
                {
                  "name": "DEP_DEL15",
                  "type": "\"double\"",
                  "metadata": "{}"
                },
                {
                  "name": "DEP_TIME_BLK",
                  "type": "\"string\"",
                  "metadata": "{}"
                },
                {
                  "name": "CRS_ARR_TIME",
                  "type": "\"integer\"",
                  "metadata": "{}"
                },
                {
                  "name": "ARR_TIME_BLK",
                  "type": "\"string\"",
                  "metadata": "{}"
                },
                {
                  "name": "DISTANCE",
                  "type": "\"double\"",
                  "metadata": "{}"
                },
                {
                  "name": "DISTANCE_GROUP",
                  "type": "\"integer\"",
                  "metadata": "{}"
                },
                {
                  "name": "BAD_TRAVEL_DAY",
                  "type": "\"integer\"",
                  "metadata": "{}"
                },
                {
                  "name": "DEP_TIMESTAMP",
                  "type": "\"timestamp\"",
                  "metadata": "{}"
                },
                {
                  "name": "DEP_TIMESTAMP_UTC",
                  "type": "\"timestamp\"",
                  "metadata": "{}"
                },
                {
                  "name": "DEP_TIMESTAMP_UTC_MINUS2",
                  "type": "\"timestamp\"",
                  "metadata": "{}"
                },
                {
                  "name": "WX_STATION_ORIG",
                  "type": "\"string\"",
                  "metadata": "{}"
                },
                {
                  "name": "WX_STATION_DEST",
                  "type": "\"string\"",
                  "metadata": "{}"
                },
                {
                  "name": "CALL_SIGN_ORG",
                  "type": "\"string\"",
                  "metadata": "{}"
                },
                {
                  "name": "WX_TIMESTAMP_UTC_START_ORG",
                  "type": "\"timestamp\"",
                  "metadata": "{}"
                },
                {
                  "name": "WX_TIMESTAMP_UTC_END_ORG",
                  "type": "\"timestamp\"",
                  "metadata": "{}"
                },
                {
                  "name": "ELEVATION_ORG",
                  "type": "\"double\"",
                  "metadata": "{}"
                },
                {
                  "name": "SLP_ORG",
                  "type": "\"double\"",
                  "metadata": "{}"
                },
                {
                  "name": "VIS_ORG",
                  "type": "\"decimal(4,1)\"",
                  "metadata": "{}"
                },
                {
                  "name": "TMP_ORG",
                  "type": "\"decimal(8,5)\"",
                  "metadata": "{}"
                },
                {
                  "name": "DEW_ORG",
                  "type": "\"decimal(8,5)\"",
                  "metadata": "{}"
                },
                {
                  "name": "CIG_ORG",
                  "type": "\"integer\"",
                  "metadata": "{}"
                },
                {
                  "name": "WND_ORG",
                  "type": "\"decimal(4,1)\"",
                  "metadata": "{}"
                },
                {
                  "name": "GUST_ORG",
                  "type": "\"decimal(11,1)\"",
                  "metadata": "{}"
                },
                {
                  "name": "TCB_ORG",
                  "type": "\"integer\"",
                  "metadata": "{}"
                },
                {
                  "name": "OBSC_ORG",
                  "type": "\"integer\"",
                  "metadata": "{}"
                },
                {
                  "name": "PREC_ORG",
                  "type": "\"decimal(4,1)\"",
                  "metadata": "{}"
                },
                {
                  "name": "SNW_ORG",
                  "type": "\"decimal(11,1)\"",
                  "metadata": "{}"
                },
                {
                  "name": "FZFG_ORG",
                  "type": "\"integer\"",
                  "metadata": "{}"
                },
                {
                  "name": "FZDZ_ORG",
                  "type": "\"integer\"",
                  "metadata": "{}"
                },
                {
                  "name": "FZRA_ORG",
                  "type": "\"integer\"",
                  "metadata": "{}"
                },
                {
                  "name": "TSRA_ORG",
                  "type": "\"integer\"",
                  "metadata": "{}"
                },
                {
                  "name": "HSN_ORG",
                  "type": "\"integer\"",
                  "metadata": "{}"
                },
                {
                  "name": "LSN_ORG",
                  "type": "\"integer\"",
                  "metadata": "{}"
                },
                {
                  "name": "BSN_ORG",
                  "type": "\"integer\"",
                  "metadata": "{}"
                },
                {
                  "name": "VV_ORG",
                  "type": "\"integer\"",
                  "metadata": "{}"
                },
                {
                  "name": "TS_ORG",
                  "type": "\"integer\"",
                  "metadata": "{}"
                },
                {
                  "name": "HAIL_ORG",
                  "type": "\"integer\"",
                  "metadata": "{}"
                },
                {
                  "name": "FOG_ORG",
                  "type": "\"integer\"",
                  "metadata": "{}"
                },
                {
                  "name": "VA_ORG",
                  "type": "\"integer\"",
                  "metadata": "{}"
                },
                {
                  "name": "BR_ORG",
                  "type": "\"integer\"",
                  "metadata": "{}"
                },
                {
                  "name": "SQ_ORG",
                  "type": "\"integer\"",
                  "metadata": "{}"
                },
                {
                  "name": "FC_ORG",
                  "type": "\"integer\"",
                  "metadata": "{}"
                },
                {
                  "name": "CALL_SIGN_DEST",
                  "type": "\"string\"",
                  "metadata": "{}"
                },
                {
                  "name": "WX_TIMESTAMP_UTC_START_DEST",
                  "type": "\"timestamp\"",
                  "metadata": "{}"
                },
                {
                  "name": "WX_TIMESTAMP_UTC_END_DEST",
                  "type": "\"timestamp\"",
                  "metadata": "{}"
                },
                {
                  "name": "ELEVATION_DEST",
                  "type": "\"double\"",
                  "metadata": "{}"
                },
                {
                  "name": "SLP_DEST",
                  "type": "\"double\"",
                  "metadata": "{}"
                },
                {
                  "name": "VIS_DEST",
                  "type": "\"decimal(4,1)\"",
                  "metadata": "{}"
                },
                {
                  "name": "TMP_DEST",
                  "type": "\"decimal(8,5)\"",
                  "metadata": "{}"
                },
                {
                  "name": "DEW_DEST",
                  "type": "\"decimal(8,5)\"",
                  "metadata": "{}"
                },
                {
                  "name": "CIG_DEST",
                  "type": "\"integer\"",
                  "metadata": "{}"
                },
                {
                  "name": "WND_DEST",
                  "type": "\"decimal(4,1)\"",
                  "metadata": "{}"
                },
                {
                  "name": "GUST_DEST",
                  "type": "\"decimal(11,1)\"",
                  "metadata": "{}"
                },
                {
                  "name": "TCB_DEST",
                  "type": "\"integer\"",
                  "metadata": "{}"
                },
                {
                  "name": "OBSC_DEST",
                  "type": "\"integer\"",
                  "metadata": "{}"
                },
                {
                  "name": "PREC_DEST",
                  "type": "\"decimal(4,1)\"",
                  "metadata": "{}"
                },
                {
                  "name": "SNW_DEST",
                  "type": "\"decimal(11,1)\"",
                  "metadata": "{}"
                },
                {
                  "name": "FZFG_DEST",
                  "type": "\"integer\"",
                  "metadata": "{}"
                },
                {
                  "name": "FZDZ_DEST",
                  "type": "\"integer\"",
                  "metadata": "{}"
                },
                {
                  "name": "FZRA_DEST",
                  "type": "\"integer\"",
                  "metadata": "{}"
                },
                {
                  "name": "TSRA_DEST",
                  "type": "\"integer\"",
                  "metadata": "{}"
                },
                {
                  "name": "HSN_DEST",
                  "type": "\"integer\"",
                  "metadata": "{}"
                },
                {
                  "name": "LSN_DEST",
                  "type": "\"integer\"",
                  "metadata": "{}"
                },
                {
                  "name": "BSN_DEST",
                  "type": "\"integer\"",
                  "metadata": "{}"
                },
                {
                  "name": "VV_DEST",
                  "type": "\"integer\"",
                  "metadata": "{}"
                },
                {
                  "name": "TS_DEST",
                  "type": "\"integer\"",
                  "metadata": "{}"
                },
                {
                  "name": "HAIL_DEST",
                  "type": "\"integer\"",
                  "metadata": "{}"
                },
                {
                  "name": "FOG_DEST",
                  "type": "\"integer\"",
                  "metadata": "{}"
                },
                {
                  "name": "VA_DEST",
                  "type": "\"integer\"",
                  "metadata": "{}"
                },
                {
                  "name": "BR_DEST",
                  "type": "\"integer\"",
                  "metadata": "{}"
                },
                {
                  "name": "SQ_DEST",
                  "type": "\"integer\"",
                  "metadata": "{}"
                },
                {
                  "name": "FC_DEST",
                  "type": "\"integer\"",
                  "metadata": "{}"
                }
              ],
              "aggError": "",
              "aggData": [],
              "addedWidgets": {},
              "metadata": {},
              "dbfsResultPath": null,
              "type": "table",
              "aggOverflow": false,
              "aggSeriesLimitReached": false,
              "arguments": {}
            }
          },
          "data": {
            "text/html": [
              "<style scoped>\n  .table-result-container {\n    max-height: 300px;\n    overflow: auto;\n  }\n  table, th, td {\n    border: 1px solid black;\n    border-collapse: collapse;\n  }\n  th, td {\n    padding: 5px;\n  }\n  th {\n    text-align: left;\n  }\n</style><div class='table-result-container'><table class='table-result'><thead style='background-color: white'><tr><th>YEAR</th><th>QUARTER</th><th>MONTH</th><th>DAY_OF_MONTH</th><th>DAY_OF_WEEK</th><th>FL_DATE</th><th>OP_UNIQUE_CARRIER</th><th>OP_CARRIER_AIRLINE_ID</th><th>OP_CARRIER_FL_NUM</th><th>ORIGIN_AIRPORT_ID</th><th>ORIGIN_CITY_MARKET_ID</th><th>ORIGIN</th><th>ORIGIN_STATE_FIPS</th><th>DEST_AIRPORT_ID</th><th>DEST_CITY_MARKET_ID</th><th>DEST</th><th>DEST_STATE_FIPS</th><th>CRS_DEP_TIME</th><th>DEP_DEL15</th><th>DEP_TIME_BLK</th><th>CRS_ARR_TIME</th><th>ARR_TIME_BLK</th><th>DISTANCE</th><th>DISTANCE_GROUP</th><th>BAD_TRAVEL_DAY</th><th>DEP_TIMESTAMP</th><th>DEP_TIMESTAMP_UTC</th><th>DEP_TIMESTAMP_UTC_MINUS2</th><th>WX_STATION_ORIG</th><th>WX_STATION_DEST</th><th>CALL_SIGN_ORG</th><th>WX_TIMESTAMP_UTC_START_ORG</th><th>WX_TIMESTAMP_UTC_END_ORG</th><th>ELEVATION_ORG</th><th>SLP_ORG</th><th>VIS_ORG</th><th>TMP_ORG</th><th>DEW_ORG</th><th>CIG_ORG</th><th>WND_ORG</th><th>GUST_ORG</th><th>TCB_ORG</th><th>OBSC_ORG</th><th>PREC_ORG</th><th>SNW_ORG</th><th>FZFG_ORG</th><th>FZDZ_ORG</th><th>FZRA_ORG</th><th>TSRA_ORG</th><th>HSN_ORG</th><th>LSN_ORG</th><th>BSN_ORG</th><th>VV_ORG</th><th>TS_ORG</th><th>HAIL_ORG</th><th>FOG_ORG</th><th>VA_ORG</th><th>BR_ORG</th><th>SQ_ORG</th><th>FC_ORG</th><th>CALL_SIGN_DEST</th><th>WX_TIMESTAMP_UTC_START_DEST</th><th>WX_TIMESTAMP_UTC_END_DEST</th><th>ELEVATION_DEST</th><th>SLP_DEST</th><th>VIS_DEST</th><th>TMP_DEST</th><th>DEW_DEST</th><th>CIG_DEST</th><th>WND_DEST</th><th>GUST_DEST</th><th>TCB_DEST</th><th>OBSC_DEST</th><th>PREC_DEST</th><th>SNW_DEST</th><th>FZFG_DEST</th><th>FZDZ_DEST</th><th>FZRA_DEST</th><th>TSRA_DEST</th><th>HSN_DEST</th><th>LSN_DEST</th><th>BSN_DEST</th><th>VV_DEST</th><th>TS_DEST</th><th>HAIL_DEST</th><th>FOG_DEST</th><th>VA_DEST</th><th>BR_DEST</th><th>SQ_DEST</th><th>FC_DEST</th></tr></thead><tbody><tr><td>2015</td><td>1</td><td>3</td><td>4</td><td>3</td><td>2015-03-04</td><td>EV</td><td>20366</td><td>5446</td><td>11433</td><td>31295</td><td>DTW</td><td>26</td><td>10434</td><td>30434</td><td>AVP</td><td>42</td><td>1950</td><td>0.0</td><td>1900-1959</td><td>2117</td><td>2100-2159</td><td>399.0</td><td>2</td><td>0</td><td>2015-03-04T19:50:00.000+0000</td><td>2015-03-05T00:50:00.000+0000</td><td>2015-03-04T22:50:00.000+0000</td><td>KDTW</td><td>KAVP</td><td>KDTW</td><td>2015-03-04T21:53:00.000+0000</td><td>2015-03-04T22:52:59.000+0000</td><td>192.3</td><td>1016.0</td><td>10.0</td><td>-0.60000</td><td>-12.20000</td><td>22001</td><td>15.0</td><td>22.0</td><td>0</td><td>0</td><td>0.0</td><td>0.0</td><td>0</td><td>0</td><td>0</td><td>0</td><td>0</td><td>0</td><td>0</td><td>0</td><td>0</td><td>0</td><td>0</td><td>0</td><td>0</td><td>0</td><td>0</td><td>KAVP</td><td>2015-03-04T22:39:00.000+0000</td><td>2015-03-04T22:53:59.000+0000</td><td>283.5</td><td>1011.0</td><td>7.0</td><td>3.90000</td><td>0.60000</td><td>5000</td><td>6.0</td><td>0.0</td><td>0</td><td>0</td><td>0.0</td><td>0.0</td><td>0</td><td>0</td><td>0</td><td>0</td><td>0</td><td>0</td><td>0</td><td>0</td><td>0</td><td>0</td><td>0</td><td>0</td><td>0</td><td>0</td><td>0</td></tr><tr><td>2015</td><td>1</td><td>3</td><td>4</td><td>3</td><td>2015-03-04</td><td>EV</td><td>20366</td><td>4922</td><td>10397</td><td>30397</td><td>ATL</td><td>13</td><td>10434</td><td>30434</td><td>AVP</td><td>42</td><td>2100</td><td>0.0</td><td>2100-2159</td><td>2300</td><td>2300-2359</td><td>714.0</td><td>3</td><td>0</td><td>2015-03-04T21:00:00.000+0000</td><td>2015-03-05T02:00:00.000+0000</td><td>2015-03-05T00:00:00.000+0000</td><td>KATL</td><td>KAVP</td><td>KATL</td><td>2015-03-04T23:52:00.000+0000</td><td>2015-03-05T00:51:59.000+0000</td><td>307.8</td><td>1013.0</td><td>10.0</td><td>21.70000</td><td>15.00000</td><td>25000</td><td>11.1</td><td>0.0</td><td>0</td><td>0</td><td>0.0</td><td>0.0</td><td>0</td><td>0</td><td>0</td><td>0</td><td>0</td><td>0</td><td>0</td><td>0</td><td>0</td><td>0</td><td>0</td><td>0</td><td>0</td><td>0</td><td>0</td><td>KAVP</td><td>2015-03-04T23:54:00.000+0000</td><td>2015-03-05T00:53:59.000+0000</td><td>283.5</td><td>1011.0</td><td>8.0</td><td>3.90000</td><td>0.00000</td><td>5000</td><td>6.0</td><td>0.0</td><td>0</td><td>0</td><td>0.0</td><td>0.0</td><td>0</td><td>0</td><td>0</td><td>0</td><td>0</td><td>0</td><td>0</td><td>0</td><td>0</td><td>0</td><td>0</td><td>0</td><td>0</td><td>0</td><td>0</td></tr></tbody></table></div>"
            ]
          }
        }
      ],
      "execution_count": null
    },
    {
      "cell_type": "code",
      "source": [
        "#Create airport adjacency list by year\n",
        "edges_f_rdd_2015 = createAdjListRDD(df_f_src_dest_2015)\n",
        "edges_f_rdd_2016 = createAdjListRDD(df_f_src_dest_2016)\n",
        "edges_f_rdd_2017 = createAdjListRDD(df_f_src_dest_2016)\n",
        "edges_f_rdd_2018 = createAdjListRDD(df_f_src_dest_2017)"
      ],
      "metadata": {
        "application/vnd.databricks.v1+cell": {
          "title": "",
          "showTitle": false,
          "inputWidgets": {},
          "nuid": "415b2b28-bf5a-4f0c-9ab3-e2c323d64c11"
        },
        "id": "RIDy5Wp0p5Lk",
        "outputId": "dc8c3e62-5732-4fa9-8e23-3cb99c641438"
      },
      "outputs": [
        {
          "output_type": "display_data",
          "metadata": {
            "application/vnd.databricks.v1+output": {
              "datasetInfos": [],
              "data": "<div class=\"ansiout\"></div>",
              "removedWidgets": [],
              "addedWidgets": {},
              "metadata": {},
              "type": "html",
              "arguments": {}
            }
          },
          "data": {
            "text/html": [
              "<style scoped>\n  .ansiout {\n    display: block;\n    unicode-bidi: embed;\n    white-space: pre-wrap;\n    word-wrap: break-word;\n    word-break: break-all;\n    font-family: \"Source Code Pro\", \"Menlo\", monospace;;\n    font-size: 13px;\n    color: #555;\n    margin-left: 4px;\n    line-height: 19px;\n  }\n</style>\n<div class=\"ansiout\"></div>"
            ]
          }
        }
      ],
      "execution_count": null
    },
    {
      "cell_type": "code",
      "source": [
        "#For each year create seperate pagerank and write to blob storage\n",
        "nIter = 30\n",
        "year = 2015\n",
        "for edges_f_rdd in [edges_f_rdd_2015, edges_f_rdd_2016, edges_f_rdd_2017, edges_f_rdd_2018]:\n",
        "    \n",
        "    fullGraph = initGraph(edges_f_rdd).cache()\n",
        "    full_results = runPageRank(fullGraph, alpha = 0.15, maxIter = nIter, verbose = False) \\\n",
        "                .toDF().withColumnRenamed('_1', 'code').withColumnRenamed('_2', 'rank')\n",
        "\n",
        "    # Write file to cloud storage\n",
        "    full_results.write.mode('overwrite').parquet(f'{blob_url}/{year}_airport_pagerank')\n",
        "    year += 1"
      ],
      "metadata": {
        "application/vnd.databricks.v1+cell": {
          "title": "",
          "showTitle": false,
          "inputWidgets": {},
          "nuid": "f9810c83-c735-4832-90af-4174d4d73de9"
        },
        "id": "4aCynjtup5Lm",
        "outputId": "d28d13ba-ef7f-430b-f65a-17606d122927"
      },
      "outputs": [
        {
          "output_type": "display_data",
          "metadata": {
            "application/vnd.databricks.v1+output": {
              "datasetInfos": [],
              "data": "<div class=\"ansiout\"></div>",
              "removedWidgets": [],
              "addedWidgets": {},
              "metadata": {},
              "type": "html",
              "arguments": {}
            }
          },
          "data": {
            "text/html": [
              "<style scoped>\n  .ansiout {\n    display: block;\n    unicode-bidi: embed;\n    white-space: pre-wrap;\n    word-wrap: break-word;\n    word-break: break-all;\n    font-family: \"Source Code Pro\", \"Menlo\", monospace;;\n    font-size: 13px;\n    color: #555;\n    margin-left: 4px;\n    line-height: 19px;\n  }\n</style>\n<div class=\"ansiout\"></div>"
            ]
          }
        }
      ],
      "execution_count": null
    },
    {
      "cell_type": "code",
      "source": [
        "# Add the year start and end columns for the airport yearly pagerank and union the datasets\n",
        "for year in [2015, 2016, 2017, 2018]:\n",
        "    globals()[f'page_{year}'] = spark.read.parquet(f'{blob_url}/{year}_airport_pagerank')\n",
        "    #display(globals()[f'page_{year}'].sort('rank',ascending=False))\n",
        "    globals()[f'page_{year}'] = globals()[f'page_{year}'].select(['code','rank']) \\\n",
        "                                                        .withColumn('year_start', to_timestamp(lit(f'01-01-{year} 00:00:00.000'),'MM-dd-yyyy HH:mm:ss.SSS')) \\\n",
        "                                                        .withColumn('year_end', to_timestamp(lit(f'12-31-{year} 23:59:59.999'),'MM-dd-yyyy HH:mm:ss.SSS'))\n",
        "\n",
        "yearly_page_rank = page_2015.union(page_2016).union(page_2017).union(page_2018)\n",
        "yearly_page_rank.write.mode('overwrite').parquet(f'{blob_url}/yearly_airport_pagerank')\n",
        "display(yearly_page_rank.where(col('code') == 'JAX'))"
      ],
      "metadata": {
        "application/vnd.databricks.v1+cell": {
          "title": "",
          "showTitle": false,
          "inputWidgets": {},
          "nuid": "6bcb8859-3b20-4e03-9f96-6f29d960dabd"
        },
        "id": "CwVlXZd3p5Lo",
        "outputId": "ac3158e1-89ae-4c52-c034-efeb6f050cbc"
      },
      "outputs": [
        {
          "output_type": "display_data",
          "metadata": {
            "application/vnd.databricks.v1+output": {
              "overflow": false,
              "datasetInfos": [],
              "data": [
                [
                  "JAX",
                  0.003912490064643701,
                  "2015-01-01T00:00:00.000+0000",
                  "2015-12-31T23:59:59.999+0000"
                ],
                [
                  "JAX",
                  0.0037336896457760838,
                  "2016-01-01T00:00:00.000+0000",
                  "2016-12-31T23:59:59.999+0000"
                ],
                [
                  "JAX",
                  0.0037336896457760833,
                  "2017-01-01T00:00:00.000+0000",
                  "2017-12-31T23:59:59.999+0000"
                ],
                [
                  "JAX",
                  0.003748472315587054,
                  "2018-01-01T00:00:00.000+0000",
                  "2018-12-31T23:59:59.999+0000"
                ]
              ],
              "plotOptions": {
                "displayType": "table",
                "customPlotOptions": {},
                "pivotColumns": null,
                "pivotAggregation": null,
                "xColumns": null,
                "yColumns": null
              },
              "columnCustomDisplayInfos": {},
              "aggType": "",
              "isJsonSchema": true,
              "removedWidgets": [],
              "aggSchema": [],
              "schema": [
                {
                  "name": "code",
                  "type": "\"string\"",
                  "metadata": "{}"
                },
                {
                  "name": "rank",
                  "type": "\"double\"",
                  "metadata": "{}"
                },
                {
                  "name": "year_start",
                  "type": "\"timestamp\"",
                  "metadata": "{}"
                },
                {
                  "name": "year_end",
                  "type": "\"timestamp\"",
                  "metadata": "{}"
                }
              ],
              "aggError": "",
              "aggData": [],
              "addedWidgets": {},
              "metadata": {},
              "dbfsResultPath": null,
              "type": "table",
              "aggOverflow": false,
              "aggSeriesLimitReached": false,
              "arguments": {}
            }
          },
          "data": {
            "text/html": [
              "<style scoped>\n  .table-result-container {\n    max-height: 300px;\n    overflow: auto;\n  }\n  table, th, td {\n    border: 1px solid black;\n    border-collapse: collapse;\n  }\n  th, td {\n    padding: 5px;\n  }\n  th {\n    text-align: left;\n  }\n</style><div class='table-result-container'><table class='table-result'><thead style='background-color: white'><tr><th>code</th><th>rank</th><th>year_start</th><th>year_end</th></tr></thead><tbody><tr><td>JAX</td><td>0.003912490064643701</td><td>2015-01-01T00:00:00.000+0000</td><td>2015-12-31T23:59:59.999+0000</td></tr><tr><td>JAX</td><td>0.0037336896457760838</td><td>2016-01-01T00:00:00.000+0000</td><td>2016-12-31T23:59:59.999+0000</td></tr><tr><td>JAX</td><td>0.0037336896457760833</td><td>2017-01-01T00:00:00.000+0000</td><td>2017-12-31T23:59:59.999+0000</td></tr><tr><td>JAX</td><td>0.003748472315587054</td><td>2018-01-01T00:00:00.000+0000</td><td>2018-12-31T23:59:59.999+0000</td></tr></tbody></table></div>"
            ]
          }
        }
      ],
      "execution_count": null
    },
    {
      "cell_type": "code",
      "source": [
        "all_rank = spark.read.parquet(f'{blob_url}/yearly_airport_pagerank')\n",
        "display(all_rank.where(col('code') == 'ATL'))"
      ],
      "metadata": {
        "application/vnd.databricks.v1+cell": {
          "title": "",
          "showTitle": false,
          "inputWidgets": {},
          "nuid": "1013a312-9587-440b-8e2c-960783c417d4"
        },
        "id": "-VoWimOKp5Lp",
        "outputId": "8ebaec1f-1edc-4a4c-d0af-491aa2a91ed4"
      },
      "outputs": [
        {
          "output_type": "display_data",
          "metadata": {
            "application/vnd.databricks.v1+output": {
              "overflow": false,
              "datasetInfos": [],
              "data": [
                [
                  "ATL",
                  0.03905553025775568,
                  "2017-01-01T00:00:00.000+0000",
                  "2017-12-31T23:59:59.999+0000"
                ],
                [
                  "ATL",
                  0.037677726640013585,
                  "2015-01-01T00:00:00.000+0000",
                  "2015-12-31T23:59:59.999+0000"
                ],
                [
                  "ATL",
                  0.038015695067144195,
                  "2018-01-01T00:00:00.000+0000",
                  "2018-12-31T23:59:59.999+0000"
                ],
                [
                  "ATL",
                  0.03905553025775569,
                  "2016-01-01T00:00:00.000+0000",
                  "2016-12-31T23:59:59.999+0000"
                ]
              ],
              "plotOptions": {
                "displayType": "table",
                "customPlotOptions": {},
                "pivotColumns": null,
                "pivotAggregation": null,
                "xColumns": null,
                "yColumns": null
              },
              "columnCustomDisplayInfos": {},
              "aggType": "",
              "isJsonSchema": true,
              "removedWidgets": [],
              "aggSchema": [],
              "schema": [
                {
                  "name": "code",
                  "type": "\"string\"",
                  "metadata": "{}"
                },
                {
                  "name": "rank",
                  "type": "\"double\"",
                  "metadata": "{}"
                },
                {
                  "name": "year_start",
                  "type": "\"timestamp\"",
                  "metadata": "{}"
                },
                {
                  "name": "year_end",
                  "type": "\"timestamp\"",
                  "metadata": "{}"
                }
              ],
              "aggError": "",
              "aggData": [],
              "addedWidgets": {},
              "metadata": {},
              "dbfsResultPath": null,
              "type": "table",
              "aggOverflow": false,
              "aggSeriesLimitReached": false,
              "arguments": {}
            }
          },
          "data": {
            "text/html": [
              "<style scoped>\n  .table-result-container {\n    max-height: 300px;\n    overflow: auto;\n  }\n  table, th, td {\n    border: 1px solid black;\n    border-collapse: collapse;\n  }\n  th, td {\n    padding: 5px;\n  }\n  th {\n    text-align: left;\n  }\n</style><div class='table-result-container'><table class='table-result'><thead style='background-color: white'><tr><th>code</th><th>rank</th><th>year_start</th><th>year_end</th></tr></thead><tbody><tr><td>ATL</td><td>0.03905553025775568</td><td>2017-01-01T00:00:00.000+0000</td><td>2017-12-31T23:59:59.999+0000</td></tr><tr><td>ATL</td><td>0.037677726640013585</td><td>2015-01-01T00:00:00.000+0000</td><td>2015-12-31T23:59:59.999+0000</td></tr><tr><td>ATL</td><td>0.038015695067144195</td><td>2018-01-01T00:00:00.000+0000</td><td>2018-12-31T23:59:59.999+0000</td></tr><tr><td>ATL</td><td>0.03905553025775569</td><td>2016-01-01T00:00:00.000+0000</td><td>2016-12-31T23:59:59.999+0000</td></tr></tbody></table></div>"
            ]
          }
        }
      ],
      "execution_count": null
    },
    {
      "cell_type": "code",
      "source": [
        "pagerank_2018 = spark.read.parquet(f'{blob_url}/2018_airport_pagerank')\n",
        "top_10_2018 = pagerank_2018.sort('rank',ascending=False)\n",
        "display(top_10_2018.limit(10))"
      ],
      "metadata": {
        "application/vnd.databricks.v1+cell": {
          "title": "",
          "showTitle": false,
          "inputWidgets": {},
          "nuid": "717cd2bb-7728-48dd-971c-044155ffa17d"
        },
        "id": "DE6sG4sQp5Lq",
        "outputId": "32c37e99-bc06-4a57-c813-d96ecc735845"
      },
      "outputs": [
        {
          "output_type": "display_data",
          "metadata": {
            "application/vnd.databricks.v1+output": {
              "overflow": false,
              "datasetInfos": [],
              "data": [
                [
                  "ATL",
                  0.038015695067144195
                ],
                [
                  "ORD",
                  0.0361785460515363
                ],
                [
                  "DFW",
                  0.03167642918933463
                ],
                [
                  "DEN",
                  0.027542632386899444
                ],
                [
                  "MSP",
                  0.0259370467845489
                ],
                [
                  "DTW",
                  0.022950051573625833
                ],
                [
                  "IAH",
                  0.021419930745462435
                ],
                [
                  "SLC",
                  0.018690010855306367
                ],
                [
                  "PHX",
                  0.017766732056717558
                ],
                [
                  "SFO",
                  0.016640458232828927
                ]
              ],
              "plotOptions": {
                "displayType": "table",
                "customPlotOptions": {},
                "pivotColumns": null,
                "pivotAggregation": null,
                "xColumns": null,
                "yColumns": null
              },
              "columnCustomDisplayInfos": {},
              "aggType": "",
              "isJsonSchema": true,
              "removedWidgets": [],
              "aggSchema": [],
              "schema": [
                {
                  "name": "code",
                  "type": "\"string\"",
                  "metadata": "{}"
                },
                {
                  "name": "rank",
                  "type": "\"double\"",
                  "metadata": "{}"
                }
              ],
              "aggError": "",
              "aggData": [],
              "addedWidgets": {},
              "metadata": {},
              "dbfsResultPath": null,
              "type": "table",
              "aggOverflow": false,
              "aggSeriesLimitReached": false,
              "arguments": {}
            }
          },
          "data": {
            "text/html": [
              "<style scoped>\n  .table-result-container {\n    max-height: 300px;\n    overflow: auto;\n  }\n  table, th, td {\n    border: 1px solid black;\n    border-collapse: collapse;\n  }\n  th, td {\n    padding: 5px;\n  }\n  th {\n    text-align: left;\n  }\n</style><div class='table-result-container'><table class='table-result'><thead style='background-color: white'><tr><th>code</th><th>rank</th></tr></thead><tbody><tr><td>ATL</td><td>0.038015695067144195</td></tr><tr><td>ORD</td><td>0.0361785460515363</td></tr><tr><td>DFW</td><td>0.03167642918933463</td></tr><tr><td>DEN</td><td>0.027542632386899444</td></tr><tr><td>MSP</td><td>0.0259370467845489</td></tr><tr><td>DTW</td><td>0.022950051573625833</td></tr><tr><td>IAH</td><td>0.021419930745462435</td></tr><tr><td>SLC</td><td>0.018690010855306367</td></tr><tr><td>PHX</td><td>0.017766732056717558</td></tr><tr><td>SFO</td><td>0.016640458232828927</td></tr></tbody></table></div>"
            ]
          }
        }
      ],
      "execution_count": null
    }
  ],
  "metadata": {
    "application/vnd.databricks.v1+notebook": {
      "notebookName": "airport_pagerank",
      "dashboards": [],
      "notebookMetadata": {
        "pythonIndentUnit": 4
      },
      "language": "python",
      "widgets": {},
      "notebookOrigID": 1898361324249016
    },
    "colab": {
      "name": "airport_pagerank.ipynb",
      "provenance": [],
      "collapsed_sections": []
    }
  },
  "nbformat": 4,
  "nbformat_minor": 0
}